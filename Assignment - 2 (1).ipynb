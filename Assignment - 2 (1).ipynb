{
 "cells": [
  {
   "cell_type": "code",
   "execution_count": 21,
   "metadata": {},
   "outputs": [],
   "source": [
    "import numpy as np\n",
    "from collections import Counter"
   ]
  },
  {
   "cell_type": "code",
   "execution_count": 27,
   "metadata": {},
   "outputs": [],
   "source": [
    "// Making a list of hex values of 1000 random generated numbers using map function\n",
    "number_of_digits = list(map(hex,np.random.randint(low=1000000000, high=2000000000, size=1000)))"
   ]
  },
  {
   "cell_type": "code",
   "execution_count": 23,
   "metadata": {},
   "outputs": [],
   "source": [
    "// Generating the integer value of the highest hexadecimal in hex value and counting the frequency\n",
    "data = Counter([int(max(list(single_value[2:])),16) for single_value in number_of_digits])"
   ]
  },
  {
   "cell_type": "code",
   "execution_count": 26,
   "metadata": {},
   "outputs": [
    {
     "data": {
      "text/plain": [
       "Counter({14: 240,\n",
       "         11: 50,\n",
       "         12: 91,\n",
       "         13: 170,\n",
       "         15: 362,\n",
       "         10: 42,\n",
       "         8: 12,\n",
       "         9: 16,\n",
       "         7: 11,\n",
       "         6: 6})"
      ]
     },
     "execution_count": 26,
     "metadata": {},
     "output_type": "execute_result"
    }
   ],
   "source": [
    "data"
   ]
  }
 ],
 "metadata": {
  "kernelspec": {
   "display_name": "Python 3",
   "language": "python",
   "name": "python3"
  },
  "language_info": {
   "codemirror_mode": {
    "name": "ipython",
    "version": 3
   },
   "file_extension": ".py",
   "mimetype": "text/x-python",
   "name": "python",
   "nbconvert_exporter": "python",
   "pygments_lexer": "ipython3",
   "version": "3.7.6"
  }
 },
 "nbformat": 4,
 "nbformat_minor": 4
}
